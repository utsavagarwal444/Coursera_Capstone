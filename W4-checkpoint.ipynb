{
 "cells": [
  {
   "cell_type": "markdown",
   "metadata": {},
   "source": [
    "# This Notebook will be used for the Capstone Project - The Battle of Neighborhoods (Week 1)"
   ]
  },
  {
   "cell_type": "markdown",
   "metadata": {},
   "source": [
    "## 1. Introduction/ Business Problem"
   ]
  },
  {
   "cell_type": "markdown",
   "metadata": {},
   "source": [
    "When it comes to the Pacific North West, Seattle is the party town. The go to place for night life. When it commes to adjoining\n",
    "cities like Bellevue, the only lights are the street lights. There is virtually no night life, even though all indicators like concentration of Bars, Median Household Income, party loving crowd is comparable to Seattle. This Project aims to finding the right neighborhoods to setup Night Clubs, so people from Bellevue and adjoining areas dont missout on the fun.\n",
    "People who would be interested in this idea would not just be the Bar and Nightclub industry. But also Restaurants, Housing and Tourism will be greatle impacted. It is to note here that the the law and order problems might go up, which will increase the demand for law enforcement officers required.<br>\n",
    "**Bar and Nighclub Industry**: The industry will see a jummp in footfall in areas where the Night Club comes up. We could say existing Bars and breweries etc. might get impacted in short term. But in long term it will lead to an increased footfall from adjoining suburbs hence improved business.<br>\n",
    "**Restaurants**: Increased footfall will help the restaurants especially the ones running late into night bring in the after party crowd.<br>\n",
    "**Housing**: An improved nightlife with multiple obtions will lead party going crowd to stay around such neighborhoods or close to these, for increased access. Opening up the housing sector to more customers driving the rents and housing prices higher.<br>\n",
    "**Tourism**: Tourism in Bellevue runs high in the short Summer compared to the long winters. An improved night life will drive up the tourism specially folks visiting the nearby Skiing spots in winter.<br>\n",
    "**Law Enforcement**: The demand for law enforcement will go up with the increase in footfall leading to higher recruitment of officers, which can be a positive from a job demand perspective.<br>\n",
    "**Cabs and Parking Facilities**: THe demand will go specifically because the number of people taking Cabs will go up and also the number of nightime parkings will shoot. Bringing in additional revenue for the industry.<br>"
   ]
  },
  {
   "cell_type": "markdown",
   "metadata": {},
   "source": [
    "## 2. Data Desciption"
   ]
  },
  {
   "cell_type": "markdown",
   "metadata": {},
   "source": [
    "When it comes to data, I will check areas in Seattle with high nightclubs to find what other late running shops might be influencing the presence of the night clubs or vice versa. Like presence of Bars and Restaurants etc. Simialr concentration I will try to find in Bellevue and see which areas specifically come close to such markers. This would help in deciding the right neighborhoods for setting up shops. <br>\n",
    "I will be playing with the Four Square data in the following way: <br>\n",
    "1. I would be looking up Night Clubs in Seattle and then look for Bars and Restaurants in close proximity. These bars and restaurants would be filtered for late hours.\n",
    "2. I would define the cluster based on night life excluding Night clubs for a fair comparison with Bellevue Neighborhoods <br>\n",
    "3. Next i would try to get the night life in Bellevue neightborhoods, I might have to adjust the running hours slightly to take into account the non existent night life. Assuming places closing not so late, would close later with increased late night business.<br>\n",
    "4. Based on the above findings I will find neighborhoods which are suitable for setting up Night Clubs.\n",
    "5. If multiple such neighborhoods are found then I will look for secondary requirements like proximity to Hotels, Parking Facilities and Law Enforcment agencies.<br>\n",
    "6. I also wanted to correlate with Housing so we are slightly away from high concentration of Housing and not very far. I am yet to find to find any such dataset to use. Would love to include it if if i find something."
   ]
  },
  {
   "cell_type": "code",
   "execution_count": null,
   "metadata": {},
   "outputs": [],
   "source": []
  }
 ],
 "metadata": {
  "kernelspec": {
   "display_name": "Python 3",
   "language": "python",
   "name": "python3"
  },
  "language_info": {
   "codemirror_mode": {
    "name": "ipython",
    "version": 3
   },
   "file_extension": ".py",
   "mimetype": "text/x-python",
   "name": "python",
   "nbconvert_exporter": "python",
   "pygments_lexer": "ipython3",
   "version": "3.6.7"
  }
 },
 "nbformat": 4,
 "nbformat_minor": 2
}
